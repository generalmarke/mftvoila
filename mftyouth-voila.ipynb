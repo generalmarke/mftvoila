{
 "cells": [
  {
   "cell_type": "markdown",
   "id": "74ff7f8c-d3f7-454b-bd26-8acc94c92655",
   "metadata": {},
   "source": [
    "# Muslim Faith Trends Youth Data Analysis"
   ]
  },
  {
   "cell_type": "code",
   "execution_count": 2,
   "id": "158ca48f-52b2-4dd6-b3a7-f4c55a210658",
   "metadata": {},
   "outputs": [],
   "source": [
    "import pandas as pd\n",
    "import matplotlib.pyplot as plt\n",
    "import seaborn as sns"
   ]
  },
  {
   "cell_type": "code",
   "execution_count": 3,
   "id": "20113f42-7d00-4e02-8319-528677cadc2b",
   "metadata": {},
   "outputs": [],
   "source": [
    "import os\n",
    "import json\n",
    "import gspread\n",
    "from oauth2client.service_account import ServiceAccountCredentials\n",
    "\n",
    "# Fetch the Google Service Account credentials from GitHub Secrets\n",
    "google_credentials = json.loads(os.environ.get(\"GOOGLE_SERVICE_ACCOUNT\"))\n",
    "\n",
    "# Set up Google Sheets API\n",
    "scope = [\"https://spreadsheets.google.com/feeds\", \"https://www.googleapis.com/auth/drive\"]\n",
    "credentials = ServiceAccountCredentials.from_json_keyfile_dict(google_credentials, scope)\n",
    "client = gspread.authorize(credentials)\n",
    "\n",
    "# Open the Google Sheets file\n",
    "file_id = \"1K7w6NrLIHfFE6eed6nb03ZD4Yin_WAa5Cu49g1z_YyM\"  \n",
    "spreadsheet = client.open_by_key(file_id)\n",
    "worksheet = spreadsheet.sheet1\n",
    "\n",
    "# Load data into a DataFrame\n",
    "data = pd.DataFrame(worksheet.get_all_records())"
   ]
  },
  {
   "cell_type": "code",
   "execution_count": 4,
   "id": "651361ad-b29b-4566-9090-4e3a27af50ea",
   "metadata": {},
   "outputs": [],
   "source": [
    "def analyze_column(column_name, data, recording_schema, figure_width=10):\n",
    "    \"\"\"\n",
    "    Analyzes a column from the data, visualizes its distribution, and displays the question text.\n",
    "\n",
    "    Parameters:\n",
    "        column_name (str): The name of the column to analyze.\n",
    "        data (DataFrame): The DataFrame containing the column.\n",
    "        recording_schema (DataFrame): The schema containing column mappings and descriptions.\n",
    "\n",
    "    Returns:\n",
    "        DataFrame: A DataFrame with Response, Count, and Percentage.\n",
    "        Visualization: A bar chart of the distribution.\n",
    "    \"\"\"\n",
    "    # Fetch the description and mapping from the recording schema\n",
    "    description = recording_schema.loc[recording_schema['column_name'] == column_name, 'item_label'].values[0]\n",
    "    mapping_str = recording_schema.loc[recording_schema['column_name'] == column_name, 'mapping'].values[0]\n",
    "    beliefs_mapping = eval(mapping_str)  # Convert string to dictionary\n",
    "\n",
    "    # Ensure column is numeric\n",
    "    data[column_name] = pd.to_numeric(data[column_name], errors='coerce')\n",
    "\n",
    "    # Count the responses\n",
    "    response_counts = data[column_name].value_counts().sort_index()  # Sort by index to align with mapping\n",
    "    response_percentages = (response_counts / response_counts.sum()) * 100\n",
    "\n",
    "    # Map numeric values to descriptive labels\n",
    "    mapped_responses = response_counts.index.map(beliefs_mapping)\n",
    "\n",
    "    # Create a DataFrame with counts and percentages\n",
    "    response_stats = pd.DataFrame({\n",
    "        'Response': mapped_responses,\n",
    "        'Count': response_counts.values,\n",
    "        'Percentage': response_percentages.values\n",
    "    })\n",
    "\n",
    "    # Display the question text\n",
    "    print(f\"Question: {description}\\n\")\n",
    "\n",
    "    # Plot the responses as a bar chart\n",
    "    plt.figure(figsize=(figure_width, 5))\n",
    "    plt.bar(response_stats['Response'], response_stats['Count'], color='skyblue')\n",
    "    plt.title(description, fontsize=14)\n",
    "    plt.ylabel(\"Count\", fontsize=12)\n",
    "    plt.xlabel(\"Response\", fontsize=12)\n",
    "\n",
    "    # Add percentage labels on top of bars\n",
    "    for i, val in enumerate(response_stats['Count']):\n",
    "        plt.text(i, val + 1, f\"{val} ({response_stats['Percentage'].iloc[i]:.1f}%)\", ha='center', fontsize=10)\n",
    "\n",
    "    plt.tight_layout()\n",
    "    plt.show()\n",
    "\n",
    "    return response_stats"
   ]
  },
  {
   "cell_type": "code",
   "execution_count": 5,
   "id": "6d6516c0-92f5-4b45-98ef-0af0c33e7d08",
   "metadata": {},
   "outputs": [],
   "source": [
    "def analyze_columns(prefix, data, recording_schema, figsize=15, title=\"Cumulative Response Analysis\"):\n",
    "    \"\"\"\n",
    "    Analyze and plot cumulative responses for columns starting with a given prefix.\n",
    "    \n",
    "    Parameters:\n",
    "        prefix (str): Prefix to filter columns in recording_schema.\n",
    "        data (DataFrame): Data containing responses.\n",
    "        recording_schema (DataFrame): Schema containing column names and descriptions.\n",
    "        figsize (int, optional): Figure size for the plot (default is 15).\n",
    "        title (str, optional): Title for the graph (default is \"Cumulative Response Analysis\").\n",
    "    \n",
    "    Returns:\n",
    "        DataFrame: A DataFrame with counts and percentages for each item.\n",
    "    \"\"\"\n",
    "    # Filter only the relevant columns based on the prefix\n",
    "    relevant_schema = recording_schema[recording_schema['column_name'].str.startswith(prefix)]\n",
    "\n",
    "    # Calculate counts and percentages\n",
    "    stats = []\n",
    "    for _, row in relevant_schema.iterrows():\n",
    "        column = row['column_name']\n",
    "        description = row['item_label']\n",
    "        \n",
    "        # Ensure column is numeric\n",
    "        data[column] = pd.to_numeric(data[column], errors='coerce')\n",
    "        \n",
    "        count = data[column].sum()  # Count where \"Selected\" (1)\n",
    "        total = data[column].count()  # Total non-missing values\n",
    "        percentage = (count / total) * 100\n",
    "        stats.append({\"Source\": description, \"Count\": count, \"Percentage\": percentage})\n",
    "\n",
    "    # Convert stats to a DataFrame and sort by percentage\n",
    "    stats_df = pd.DataFrame(stats).sort_values(by=\"Percentage\", ascending=False)\n",
    "\n",
    "    # Display the stats as a table\n",
    "    display(stats_df)  # Use display to visually show the DataFrame\n",
    "\n",
    "    # Plot the stats using percentages on the x-axis\n",
    "    plt.figure(figsize=(figsize, 8))\n",
    "    plt.barh(stats_df[\"Source\"], stats_df[\"Percentage\"], color=\"skyblue\")\n",
    "    plt.xlabel(\"Percentage (%)\", fontsize=12)\n",
    "    plt.title(title, fontsize=14)\n",
    "\n",
    "    # Add percentage labels to the bars\n",
    "    for i, percentage in enumerate(stats_df[\"Percentage\"]):\n",
    "        plt.text(percentage + 0.1, i, f\"{percentage:.1f}%\", va='center', fontsize=10)\n",
    "\n",
    "    plt.gca().invert_yaxis()  # Reverse the order for better readability\n",
    "    plt.tight_layout()\n",
    "    plt.show()\n",
    "\n",
    "    return stats_df"
   ]
  },
  {
   "cell_type": "code",
   "execution_count": 6,
   "id": "c0552f2a-bdf9-4c9c-a39e-0bf0fd600e35",
   "metadata": {},
   "outputs": [],
   "source": [
    "recording_schema = pd.read_csv(\"recording_schema.csv\")"
   ]
  },
  {
   "cell_type": "code",
   "execution_count": 7,
   "id": "93d1f910-50cb-4889-95a4-d43cec376e0f",
   "metadata": {},
   "outputs": [
    {
     "data": {
      "application/vnd.jupyter.widget-view+json": {
       "model_id": "4f45ec3e080e4c7d8c43b9845dcb6710",
       "version_major": 2,
       "version_minor": 0
      },
      "text/plain": [
       "interactive(children=(Dropdown(description='column_name', options=('practices_1', 'practices_2', 'practices_3'…"
      ]
     },
     "metadata": {},
     "output_type": "display_data"
    }
   ],
   "source": [
    "from ipywidgets import interact, widgets\n",
    "\n",
    "def select_column(column_name, figure_width):\n",
    "    return analyze_column(column_name, data, recording_schema, figure_width)\n",
    "\n",
    "# Create the interact widget\n",
    "interact(\n",
    "    select_column,\n",
    "    column_name=list(recording_schema['column_name']),\n",
    "    figure_width=widgets.IntSlider(value=15, min=5, max=30, step=1, description='Figure Width')\n",
    ");"
   ]
  },
  {
   "cell_type": "code",
   "execution_count": null,
   "id": "04e088f3-33e3-4a95-addb-3c915d00481d",
   "metadata": {},
   "outputs": [],
   "source": []
  }
 ],
 "metadata": {
  "kernelspec": {
   "display_name": "Python 3 (ipykernel)",
   "language": "python",
   "name": "python3"
  },
  "language_info": {
   "codemirror_mode": {
    "name": "ipython",
    "version": 3
   },
   "file_extension": ".py",
   "mimetype": "text/x-python",
   "name": "python",
   "nbconvert_exporter": "python",
   "pygments_lexer": "ipython3",
   "version": "3.11.9"
  }
 },
 "nbformat": 4,
 "nbformat_minor": 5
}
